{
 "cells": [
  {
   "cell_type": "code",
   "execution_count": null,
   "metadata": {},
   "outputs": [],
   "source": []
  },
  {
   "cell_type": "code",
   "execution_count": 1,
   "metadata": {},
   "outputs": [
    {
     "name": "stdout",
     "output_type": "stream",
     "text": [
      "Welcome to Hangman!\n",
      "You have 6 attempts to guess the word.\n",
      "\n",
      "Attempts left: 6\n",
      "______\n"
     ]
    }
   ],
   "source": [
    "import random\n",
    "\n",
    "def choose_random_word():\n",
    "    word_list = ['apple', 'banana', 'cherry', 'date', 'elderberry', 'fig', 'grape']\n",
    "    return random.choice(word_list)\n",
    "\n",
    "def display_word(word, guessed_letters):\n",
    "    display = ''\n",
    "    for letter in word:\n",
    "        if letter in guessed_letters:\n",
    "            display += letter\n",
    "        else:\n",
    "            display += '_'\n",
    "    return display\n",
    "\n",
    "def hangman():\n",
    "    word = choose_random_word()\n",
    "    guessed_letters = set()\n",
    "    attempts_left = 6\n",
    "\n",
    "    print(\"Welcome to Hangman!\")\n",
    "    print(\"You have 6 attempts to guess the word.\")\n",
    "\n",
    "    while attempts_left > 0:\n",
    "        print(\"\\nAttempts left:\", attempts_left)\n",
    "        display = display_word(word, guessed_letters)\n",
    "        print(display)\n",
    "\n",
    "        if '_' not in display:\n",
    "            print(\"\\nCongratulations! You've guessed the word:\", display)\n",
    "            break\n",
    "\n",
    "        guess = input(\"Guess a letter: \").lower()\n",
    "\n",
    "        if len(guess) != 1 or not guess.isalpha():\n",
    "            print(\"Please enter a single letter.\")\n",
    "            continue\n",
    "\n",
    "        if guess in guessed_letters:\n",
    "            print(\"You already guessed that letter. Try again.\")\n",
    "            continue\n",
    "\n",
    "        guessed_letters.add(guess)\n",
    "\n",
    "        if guess not in word:\n",
    "            attempts_left -= 1\n",
    "            print(\"Incorrect guess. Try again.\")\n",
    "\n",
    "    if '_' in display:\n",
    "        print(\"\\nSorry, you ran out of attempts. The word was:\", word)\n",
    "\n",
    "if __name__ == \"__main__\":\n",
    "    hangman()\n"
   ]
  },
  {
   "cell_type": "code",
   "execution_count": null,
   "metadata": {},
   "outputs": [],
   "source": []
  }
 ],
 "metadata": {
  "kernelspec": {
   "display_name": "default",
   "language": "python",
   "name": "python3"
  },
  "language_info": {
   "codemirror_mode": {
    "name": "ipython",
    "version": 3
   },
   "file_extension": ".py",
   "mimetype": "text/x-python",
   "name": "python",
   "nbconvert_exporter": "python",
   "pygments_lexer": "ipython3",
   "version": "3.11.0"
  },
  "orig_nbformat": 4
 },
 "nbformat": 4,
 "nbformat_minor": 2
}
